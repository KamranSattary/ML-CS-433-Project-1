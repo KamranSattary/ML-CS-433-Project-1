{
 "cells": [
  {
   "cell_type": "markdown",
   "metadata": {},
   "source": [
    "# **Hyperparameters determination: Plots**\n",
    "In this notebook, we will focus on hyperparameters determination and more specifically on plotting different graphs to get a visual understanding of how each parameter affects the overall missclassification error on testing sets. "
   ]
  },
  {
   "cell_type": "markdown",
   "metadata": {},
   "source": [
    "## **Importing the data**"
   ]
  },
  {
   "cell_type": "code",
   "execution_count": 2,
   "metadata": {},
   "outputs": [],
   "source": [
    "import csv\n",
    "import numpy as np\n",
    "\n",
    "data_path = '../data/train.csv'\n",
    "\n",
    "def load_csv_data(data_path, sub_sample=False):\n",
    "    \"\"\"Loads data and returns y (class labels), tX (features) and ids (event ids)\"\"\"\n",
    "    y = np.genfromtxt(data_path, delimiter=\",\", skip_header=1, dtype=str, usecols=1)\n",
    "    x = np.genfromtxt(data_path, delimiter=\",\", skip_header=1)\n",
    "    ids = x[:, 0].astype(np.int)\n",
    "    input_data = x[:, 2:]\n",
    "\n",
    "    # convert class labels from strings to binary (-1,1)\n",
    "    yb = np.ones(len(y))\n",
    "    yb[np.where(y == 'b')] = -1\n",
    "\n",
    "    return yb, input_data, ids\n",
    "\n",
    "y, x, ids = load_csv_data(data_path)"
   ]
  },
  {
   "cell_type": "markdown",
   "metadata": {},
   "source": [
    "## **Cleaning the data**\n",
    "One important step is to clean the data. One quick look to the data is enough to see that there are a lot of -999 values that shouldn't be here. One effective way to deal with it is to replace all these values by NaN, then calculating the median for each column and replacing the values by the median of their corresponding columns."
   ]
  },
  {
   "cell_type": "code",
   "execution_count": 3,
   "metadata": {},
   "outputs": [
    {
     "name": "stdout",
     "output_type": "stream",
     "text": [
      "[ 1.124060e+02  4.652400e+01  7.375200e+01  3.846750e+01  2.107000e+00\n",
      "  2.258850e+02 -2.440000e-01  2.491500e+00  1.231550e+01  1.206645e+02\n",
      "  1.280000e+00 -3.560000e-01  4.540000e-01  3.180400e+01 -2.300000e-02\n",
      " -3.300000e-02  4.051600e+01 -4.500000e-02  8.600000e-02  3.480200e+01\n",
      " -2.400000e-02  1.797390e+02  1.000000e+00  6.556100e+01  0.000000e+00\n",
      " -3.300000e-02  4.790200e+01 -1.000000e-02 -2.000000e-03  4.051250e+01]\n",
      "[ 1.20417434e+02  4.92398193e+01  8.11819816e+01  5.78959617e+01\n",
      "  2.19310420e+00  2.68220619e+02 -4.11628932e-01  2.37309984e+00\n",
      "  1.89173324e+01  1.58432217e+02  1.43760943e+00 -1.28304708e-01\n",
      "  4.55244780e-01  3.87074191e+01 -1.09730480e-02 -8.17107200e-03\n",
      "  4.66602072e+01 -1.95074680e-02  4.35429640e-02  4.17172345e+01\n",
      " -1.01191920e-02  2.09797178e+02  9.79176000e-01  7.71243656e+01\n",
      " -1.96589200e-03 -2.06285240e-02  5.07391493e+01 -1.05354440e-02\n",
      " -1.87879200e-03  7.30645914e+01]\n"
     ]
    }
   ],
   "source": [
    "inds = np.where(x == -999)\n",
    "x[inds] = np.nan\n",
    "\n",
    "col_median = np.nanmedian(x, axis=0)\n",
    "\n",
    "#Find indices that you need to replace\n",
    "inds = np.where(np.isnan(x))\n",
    "\n",
    "#Place column medians in the indices. Align the arrays using take\n",
    "x[inds] = np.take(col_median, inds[1])\n",
    "\n",
    "#Standardizing the data\n",
    "xmin, xmax = np.min(x, axis=0), np.max(x, axis=0)\n",
    "x = (x - xmin) / (xmax-xmin)"
   ]
  },
  {
   "cell_type": "markdown",
   "metadata": {},
   "source": [
    "## **Functions**\n",
    "We will use the following functions to do a ridge regression. The goal here is to apply the `cross_validation_demo` function to plot the missclassification error on the test sets with different degrees and with different lambdas. By doing this, we will be able to get a understanding of what hyperparameters (degree and lambda) are best suited to solve our classification problem."
   ]
  },
  {
   "cell_type": "code",
   "execution_count": 4,
   "metadata": {},
   "outputs": [],
   "source": [
    "def build_poly(x, degree):\n",
    "\n",
    "    \"\"\"\n",
    "    Builds polynomial augmented dataset\n",
    "    :param x: (n,d) array\n",
    "    :param degree: int\n",
    "    :return: polynomial augmented array\n",
    "    \"\"\"\n",
    "    r = x.copy()\n",
    "    for deg in range (2,degree+1):\n",
    "        r = np.c_[r, np.power(x, deg)]\n",
    "        \n",
    "    return np.c_[np.ones(r.shape[0]), r]\n",
    "\n",
    "def build_k_indices(y, k_fold, seed):\n",
    "    \n",
    "    \"\"\"\n",
    "    Builds k index sets from input data\n",
    "    :param y:\n",
    "    :param k_fold:\n",
    "    :param seed:\n",
    "    :return: array of k_indices\n",
    "    \"\"\"\n",
    "    num_row = y.shape[0]\n",
    "    interval = int(num_row/k_fold)\n",
    "    np.random.seed(seed)\n",
    "    indices = np.random.permutation(num_row)\n",
    "    k_indices = [indices[k*interval: (k+1) * interval] for k in range (k_fold)]\n",
    "    return np.array(k_indices)\n",
    "            \n",
    "def ridge_regression(y, tx, lambda_):\n",
    "    \n",
    "    \"\"\"\n",
    "    Ridge regression solver using normal equations\n",
    "    :param y: (n,) array\n",
    "    :param tx: (n,D) matrix\n",
    "    :return: optimal weights vector\n",
    "    \"\"\"\n",
    "    aI = 2 * tx.shape[0] * lambda_ * np.identity(tx.shape[1])\n",
    "    a = tx.T.dot(tx) + aI\n",
    "    b = tx.T.dot(y)\n",
    "    return np.linalg.solve(a,b)"
   ]
  },
  {
   "cell_type": "code",
   "execution_count": 22,
   "metadata": {},
   "outputs": [],
   "source": [
    "import pickle\n",
    "\n",
    "def predict(tx, w):\n",
    "    return tx.dot(w)\n",
    "\n",
    "def cross_validation(y, x, k_indices, k, lambda_, degree):\n",
    "    \n",
    "    \"\"\"\n",
    "    Cross validation\n",
    "    :param y: (n,) array\n",
    "    :param x: (n,d) array\n",
    "    :param k_indices: array of k_indices\n",
    "    :param k: int\n",
    "    :param lambda_: float\n",
    "    :param degree: int\n",
    "    :return: loss_tr, loss_te, w\n",
    "    \"\"\"\n",
    "    te_indice = k_indices[k]\n",
    "    tr_indice = k_indices[~(np.arange(k_indices.shape[0]) == k)]\n",
    "    tr_indice = tr_indice.reshape(-1)\n",
    "    y_te, y_tr = y[te_indice], y[tr_indice]\n",
    "    x_te, x_tr = x[te_indice], x[tr_indice]\n",
    "    \n",
    "    tx_tr = build_poly(x_tr, degree)\n",
    "    tx_te = build_poly(x_te, degree)\n",
    "    initial_w = np.ones(tx_tr.shape[1])\n",
    "    \n",
    "    w = ridge_regression(y_tr, tx_tr, lambda_)\n",
    "    \n",
    "    y_tr_pred = predict(tx_tr, w)\n",
    "    y_te_pred = predict(tx_te, w)\n",
    "    \n",
    "    y_tr_pred[np.where(y_tr_pred <= 0)] = -1\n",
    "    y_tr_pred[np.where(y_tr_pred > 0)] = 1\n",
    "    \n",
    "    y_te_pred[np.where(y_te_pred <= 0)] = -1\n",
    "    y_te_pred[np.where(y_te_pred > 0)] = 1\n",
    "\n",
    "    loss_tr = sum(y_tr_pred != y_tr)/len(y_tr)\n",
    "    loss_te = sum(y_te_pred != y_te)/len(y_te)\n",
    "    \n",
    "    return loss_tr, loss_te, w\n",
    "\n",
    "def cross_validation_demo():\n",
    "    \n",
    "    \"\"\"Cross validation demo\n",
    "    :return: best_degree, best_lambdas_per_degree, best_weights_per_degree, best_losses, best_losses_tr, losses_tr, losses_te\n",
    "    \"\"\"\n",
    "   \n",
    "    k_indices = build_k_indices(y, k_fold, seed)\n",
    "\n",
    "    best_lambdas = []\n",
    "    best_losses = []\n",
    "    best_weights = []\n",
    "    best_losses_tr = []\n",
    "    losses_te_array = np.zeros((len(degrees),len(lambdas)))\n",
    "    losses_tr_array = np.zeros((len(degrees),len(lambdas)))\n",
    "    \n",
    "    j = 0 #jth degree\n",
    "    for index_deg, deg in enumerate(degrees):\n",
    "        print(deg)\n",
    "        i = 0 #ith lambda\n",
    "        losses_te = []\n",
    "        losses_tr = []\n",
    "        ws = []\n",
    "        for index_lambda, lambda_ in enumerate(lambdas):\n",
    "            #print(f'Lambda {lambdas[i]}, degree {degrees[j]}')\n",
    "            i += 1\n",
    "            ws_tmp = []\n",
    "            loss_te_tmp = []\n",
    "            loss_tr_tmp = []\n",
    "\n",
    "            for k in range(k_fold):\n",
    "                #print(f'Fold {k}/{k_fold}')\n",
    "                loss_tr, loss_te, w = cross_validation(y, x, k_indices, k, lambda_, deg)\n",
    "                loss_te_tmp.append(loss_te)\n",
    "                loss_tr_tmp.append(loss_tr)\n",
    "                ws_tmp.append(w)\n",
    "                \n",
    "            mean_te = np.mean(loss_te_tmp, axis=0)\n",
    "            mean_tr = np.mean(loss_tr_tmp, axis=0)\n",
    "            \n",
    "            losses_te.append(mean_te)\n",
    "            losses_te_array[index_deg, index_lambda] = mean_te\n",
    "            \n",
    "            losses_tr.append(mean_tr)\n",
    "            losses_tr_array[index_deg, index_lambda] = mean_tr\n",
    "            \n",
    "            ws.append(np.mean(ws_tmp, axis=0))\n",
    "            \n",
    "            def predict(tx, w):\n",
    "                return tx.dot(w)\n",
    "\n",
    "            #print(np.mean(loss_te_tmp, axis=0))\n",
    "\n",
    "        j += 1\n",
    "        ind_lambda_opt = np.argmin(loss_te)\n",
    "        best_lambdas.append(lambdas[ind_lambda_opt])\n",
    "        best_losses.append(losses_te[ind_lambda_opt])\n",
    "        best_losses_tr.append(losses_tr[ind_lambda_opt])\n",
    "        best_weights.append(ws[ind_lambda_opt])\n",
    "        \n",
    "        with open('../../vars_ridge.pkl', 'wb') as f:\n",
    "            pickle.dump([best_lambdas,best_losses,best_losses_tr,best_weights], f)\n",
    "        \n",
    "\n",
    "    ind_best_degree = np.argmin(best_losses)\n",
    "\n",
    "    return degrees[ind_best_degree], best_lambdas, best_weights, best_losses, best_losses_tr, losses_tr, losses_te, losses_te_array, losses_tr_array"
   ]
  },
  {
   "cell_type": "markdown",
   "metadata": {},
   "source": [
    "## **Results**\n",
    "Here are the results for different degrees. I used the `%store` in order to store the results and not losing them if Jupyter Notebooks kernel crashes."
   ]
  },
  {
   "cell_type": "code",
   "execution_count": 23,
   "metadata": {},
   "outputs": [
    {
     "name": "stdout",
     "output_type": "stream",
     "text": [
      "1\n",
      "2\n",
      "3\n",
      "4\n",
      "5\n",
      "Stored 'best_degree_degree_1_5' (int64)\n",
      "Stored 'best_lambdas_per_degree_1_5' (list)\n",
      "Stored 'best_weights_per_degree_1_5' (list)\n",
      "Stored 'best_losses_1_5' (list)\n",
      "Stored 'best_losses_tr_1_5' (list)\n",
      "Stored 'losses_tr_1_5' (list)\n",
      "Stored 'losses_te_1_5' (list)\n",
      "Stored 'losses_te_array_1_5' (ndarray)\n",
      "Stored 'losses_tr_array_1_5' (ndarray)\n"
     ]
    }
   ],
   "source": [
    "\"\"\"Cross_validation_demo for the following parameters:\"\"\"\n",
    "lambdas = np.logspace(-25, 4, 30)\n",
    "degrees = np.arange(1,6,1)\n",
    "seed = 12\n",
    "k_fold = 10\n",
    "\n",
    "best_degree, best_lambdas_per_degree, best_weights_per_degree, best_losses, best_losses_tr, losses_tr, losses_te, losses_te_array, losses_tr_array = cross_validation_demo()\n",
    "\n",
    "best_degree_degree_1_5 = best_degree.copy()\n",
    "best_lambdas_per_degree_1_5 = best_lambdas_per_degree.copy()\n",
    "best_weights_per_degree_1_5 = best_weights_per_degree.copy()\n",
    "best_losses_1_5 = best_losses.copy()\n",
    "best_losses_tr_1_5 = best_losses_tr.copy()\n",
    "losses_tr_1_5 = losses_tr.copy()\n",
    "losses_te_1_5 = losses_te.copy()\n",
    "losses_te_array_1_5 = losses_te_array.copy()\n",
    "losses_tr_array_1_5 = losses_tr_array.copy()\n",
    "\n",
    "%store best_degree_degree_1_5\n",
    "%store best_lambdas_per_degree_1_5\n",
    "%store best_weights_per_degree_1_5\n",
    "%store best_losses_1_5\n",
    "%store best_losses_tr_1_5\n",
    "%store losses_tr_1_5\n",
    "%store losses_te_1_5\n",
    "%store losses_te_array_1_5\n",
    "%store losses_tr_array_1_5\n"
   ]
  },
  {
   "cell_type": "code",
   "execution_count": 9,
   "metadata": {},
   "outputs": [
    {
     "name": "stdout",
     "output_type": "stream",
     "text": [
      "Stored 'best_degree_degree_6_10' (int64)\n",
      "Stored 'best_lambdas_per_degree_6_10' (list)\n",
      "Stored 'best_weights_per_degree_6_10' (list)\n",
      "Stored 'best_losses_6_10' (list)\n",
      "Stored 'best_losses_tr_6_10' (list)\n",
      "Stored 'losses_tr_6_10' (list)\n",
      "Stored 'losses_te_6_10' (list)\n"
     ]
    }
   ],
   "source": [
    "\"\"\"Cross_validation_demo for the following parameters:\"\"\"\n",
    "lambdas = np.logspace(-25, 4, 30)\n",
    "degrees = np.arange(6,11,1)\n",
    "seed = 12\n",
    "k_fold = 10\n",
    "\n",
    "best_degree, best_lambdas_per_degree, best_weights_per_degree, best_losses, best_losses_tr, losses_tr, losses_te, losses_te_array, losses_tr_array = cross_validation_demo()\n",
    "\n",
    "best_degree_degree_6_10 = best_degree.copy()\n",
    "best_lambdas_per_degree_6_10 = best_lambdas_per_degree.copy()\n",
    "best_weights_per_degree_6_10 = best_weights_per_degree.copy()\n",
    "best_losses_6_10 = best_losses.copy()\n",
    "best_losses_tr_6_10 = best_losses_tr.copy()\n",
    "losses_tr_6_10 = losses_tr.copy()\n",
    "losses_te_6_10 = losses_te.copy()\n",
    "\n",
    "%store best_degree_degree_6_10\n",
    "%store best_lambdas_per_degree_6_10\n",
    "%store best_weights_per_degree_6_10\n",
    "%store best_losses_6_10\n",
    "%store best_losses_tr_6_10\n",
    "%store losses_tr_6_10\n",
    "%store losses_te_6_10\n",
    "%store losses_te_array_6_10\n",
    "%store losses_tr_array_6_10"
   ]
  },
  {
   "cell_type": "code",
   "execution_count": 11,
   "metadata": {},
   "outputs": [
    {
     "name": "stdout",
     "output_type": "stream",
     "text": [
      "Stored 'best_degree_degree_11_15' (int64)\n",
      "Stored 'best_lambdas_per_degree_11_15' (list)\n",
      "Stored 'best_weights_per_degree_11_15' (list)\n",
      "Stored 'best_losses_11_15' (list)\n",
      "Stored 'best_losses_tr_11_15' (list)\n",
      "Stored 'losses_tr_11_15' (list)\n",
      "Stored 'losses_te_11_15' (list)\n"
     ]
    }
   ],
   "source": [
    "\"\"\"Cross_validation_demo for the following parameters:\"\"\"\n",
    "lambdas = np.logspace(-25, 4, 30)\n",
    "degrees = np.arange(11,16,1)\n",
    "seed = 12\n",
    "k_fold = 10\n",
    "\n",
    "best_degree, best_lambdas_per_degree, best_weights_per_degree, best_losses, best_losses_tr, losses_tr, losses_te, losses_te_array, losses_tr_array = cross_validation_demo()\n",
    "\n",
    "best_degree_degree_11_15 = best_degree.copy()\n",
    "best_lambdas_per_degree_11_15 = best_lambdas_per_degree.copy()\n",
    "best_weights_per_degree_11_15 = best_weights_per_degree.copy()\n",
    "best_losses_11_15 = best_losses.copy()\n",
    "best_losses_tr_11_15 = best_losses_tr.copy()\n",
    "losses_tr_11_15 = losses_tr.copy()\n",
    "losses_te_11_15 = losses_te.copy()\n",
    "\n",
    "%store best_degree_degree_11_15\n",
    "%store best_lambdas_per_degree_11_15\n",
    "%store best_weights_per_degree_11_15\n",
    "%store best_losses_11_15\n",
    "%store best_losses_tr_11_15\n",
    "%store losses_tr_11_15\n",
    "%store losses_te_11_15\n",
    "%store losses_te_array_11_15\n",
    "%store losses_tr_array_11_15"
   ]
  },
  {
   "cell_type": "markdown",
   "metadata": {},
   "source": [
    "## **Plots**\n",
    "We will now plot different graphs to get an understanding of how the missclassification evolves when changing the hyperparameters (degree and $\\lambda$)"
   ]
  },
  {
   "cell_type": "code",
   "execution_count": 37,
   "metadata": {},
   "outputs": [
    {
     "data": {
      "image/png": "[encoded data removed]",
      "text/plain": [
       "<Figure size 1440x936 with 1 Axes>"
      ]
     },
     "metadata": {
      "needs_background": "light"
     },
     "output_type": "display_data"
    }
   ],
   "source": [
    "import matplotlib.pyplot as plt\n",
    "import math\n",
    "\n",
    "lambdas = np.logspace(-25, 4, 30)\n",
    "\n",
    "fig, ax = plt.subplots(1,1,sharex = True, sharey = True, figsize = (20,13))\n",
    "\n",
    "for degree in range(1,6):\n",
    "    plt.semilogx(lambdas, losses_te_array_1_5[degree - 1] , marker=\".\", label = 'model of degree {}'.format(degree))\n",
    "    plt.xlabel(\"Lambda\")\n",
    "    plt.ylabel(\"Misclassification ratio\")\n",
    "    plt.title(\"Cross validation for degree 1 to 5\".format(degree))\n",
    "    plt.legend(loc=2)\n",
    "    plt.grid(True)\n",
    "\n",
    "plt.savefig(\"cross_validation_degree_1_5\")"
   ]
  },
  {
   "cell_type": "code",
   "execution_count": null,
   "metadata": {},
   "outputs": [],
   "source": []
  },
  {
   "cell_type": "code",
   "execution_count": null,
   "metadata": {},
   "outputs": [],
   "source": []
  }
 ],
 "metadata": {
  "kernelspec": {
   "display_name": "Python 3",
   "language": "python",
   "name": "python3"
  },
  "language_info": {
   "codemirror_mode": {
    "name": "ipython",
    "version": 3
   },
   "file_extension": ".py",
   "mimetype": "text/x-python",
   "name": "python",
   "nbconvert_exporter": "python",
   "pygments_lexer": "ipython3",
   "version": "3.8.3"
  }
 },
 "nbformat": 4,
 "nbformat_minor": 4
}

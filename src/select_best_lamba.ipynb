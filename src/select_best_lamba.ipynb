{
 "cells": [
  {
   "cell_type": "code",
   "execution_count": 48,
   "metadata": {
    "collapsed": true,
    "jupyter": {
     "outputs_hidden": true
    }
   },
   "outputs": [
    {
     "name": "stdout",
     "output_type": "stream",
     "text": [
      "The autoreload extension is already loaded. To reload it, use:\n",
      "  %reload_ext autoreload\n",
      "Training set loss 0.3784656751992972; test set loss 10.48733425806746\n",
      "Training set good classification 0.7771733333333334; test good classification 0.78048\n",
      "0.7771733333333334\n",
      "Training set loss 0.32103230949045924; test set loss 2.5180896813654123\n",
      "Training set good classification 0.8012622222222222; test good classification 0.80424\n",
      "0.8012622222222222\n",
      "Training set loss 0.28001229746175244; test set loss 0.37634807163810496\n",
      "Training set good classification 0.81268; test good classification 0.81452\n",
      "0.81268\n",
      "Training set loss 0.2774601381009105; test set loss 0.7144680410134334\n",
      "Training set good classification 0.8141911111111111; test good classification 0.81636\n",
      "0.8141911111111111\n",
      "Training set loss 0.27832136052323575; test set loss 0.27941453623865287\n",
      "Training set good classification 0.8132533333333334; test good classification 0.81608\n",
      "0.8132533333333334\n",
      "Training set loss 0.2806975987903992; test set loss 0.28122647119965893\n",
      "Training set good classification 0.8118533333333333; test good classification 0.81532\n",
      "0.8118533333333333\n",
      "Training set loss 0.27981348298975917; test set loss 0.2741640246236751\n",
      "Training set good classification 0.8118133333333334; test good classification 0.81532\n",
      "0.8118133333333334\n",
      "Training set loss 0.28882716246805723; test set loss 0.2848352409854163\n",
      "Training set good classification 0.8047066666666667; test good classification 0.8072\n",
      "0.8047066666666667\n",
      "Training set loss 0.28431567459884616; test set loss 0.2789829651823246\n",
      "Training set good classification 0.8078355555555555; test good classification 0.80968\n",
      "0.8078355555555555\n",
      "Training set loss 0.2872680758369321; test set loss 0.2814875177137612\n",
      "Training set good classification 0.8048; test good classification 0.80664\n",
      "0.8048\n",
      "Training set loss 0.29070645814009904; test set loss 0.2848052540508099\n",
      "Training set good classification 0.8013066666666666; test good classification 0.80328\n",
      "0.8013066666666666\n",
      "Training set loss 0.2920892771477064; test set loss 0.2861651757731328\n",
      "Training set good classification 0.7998666666666666; test good classification 0.80312\n",
      "0.7998666666666666\n",
      "Training set loss 0.2935169153341971; test set loss 0.28771340866711903\n",
      "Training set good classification 0.7985022222222222; test good classification 0.80256\n",
      "0.7985022222222222\n",
      "Training set loss 0.2944411519144682; test set loss 0.28852246664312586\n",
      "Training set good classification 0.7975244444444445; test good classification 0.80148\n",
      "0.7975244444444445\n",
      "Training set loss 0.29588208536186994; test set loss 0.29030813024786145\n",
      "Training set good classification 0.7963777777777777; test good classification 0.79984\n",
      "0.7963777777777777\n",
      "Training set loss 0.2986343112306806; test set loss 0.293702798195523\n",
      "Training set good classification 0.7924977777777777; test good classification 0.79668\n",
      "0.7924977777777777\n",
      "Training set loss 0.30466043893697087; test set loss 0.3002074059612555\n",
      "Training set good classification 0.7848933333333333; test good classification 0.78748\n",
      "0.7848933333333333\n",
      "Training set loss 0.3097374067460362; test set loss 0.3061624201267333\n",
      "Training set good classification 0.7783511111111111; test good classification 0.7792\n",
      "0.7783511111111111\n",
      "Training set loss 0.31564472122564907; test set loss 0.3125495462316225\n",
      "Training set good classification 0.7716577777777778; test good classification 0.7716\n",
      "0.7716577777777778\n",
      "Training set loss 0.32246866695577536; test set loss 0.31965854870514115\n",
      "Training set good classification 0.7641733333333334; test good classification 0.7636\n",
      "0.7641733333333334\n",
      "Training set loss 0.33365517899336145; test set loss 0.33122649200312315\n",
      "Training set good classification 0.7488977777777778; test good classification 0.74836\n",
      "0.7488977777777778\n",
      "Training set loss 0.35269309323512277; test set loss 0.3505723902996638\n",
      "Training set good classification 0.7263511111111111; test good classification 0.72688\n",
      "0.7263511111111111\n",
      "Training set loss 0.3868493204421637; test set loss 0.38541158513764995\n",
      "Training set good classification 0.7037155555555555; test good classification 0.7076\n",
      "0.7037155555555555\n",
      "Training set loss 0.3868493204421637; test set loss 0.38541158513764995\n",
      "Training set good classification 0.7037155555555555; test good classification 0.7076\n",
      "0.7037155555555555\n",
      "Training set loss 0.42269405007089833; test set loss 0.42293871710039077\n",
      "Training set good classification 0.66844; test good classification 0.66724\n",
      "0.66844\n"
     ]
    },
    {
     "data": {
      "text/plain": [
       "[0.7771733333333334,\n",
       " 0.8012622222222222,\n",
       " 0.81268,\n",
       " 0.8141911111111111,\n",
       " 0.8132533333333334,\n",
       " 0.8118533333333333,\n",
       " 0.8118133333333334,\n",
       " 0.8047066666666667,\n",
       " 0.8078355555555555,\n",
       " 0.8048,\n",
       " 0.8013066666666666,\n",
       " 0.7998666666666666,\n",
       " 0.7985022222222222,\n",
       " 0.7975244444444445,\n",
       " 0.7963777777777777,\n",
       " 0.7924977777777777,\n",
       " 0.7848933333333333,\n",
       " 0.7783511111111111,\n",
       " 0.7716577777777778,\n",
       " 0.7641733333333334,\n",
       " 0.7488977777777778,\n",
       " 0.7263511111111111,\n",
       " 0.7037155555555555,\n",
       " 0.7037155555555555,\n",
       " 0.66844]"
      ]
     },
     "execution_count": 48,
     "metadata": {},
     "output_type": "execute_result"
    }
   ],
   "source": [
    "%load_ext autoreload\n",
    "%autoreload 2\n",
    "\n",
    "from run import set_lambda, DATA_TRAIN_PATH, ret_classif_percentage, get_normalization_methods, \\\n",
    "    normalize_data, train\n",
    "from proj1_helpers import load_csv_data\n",
    "import numpy as np\n",
    "PLOT_PATH = '../plots/'\n",
    "\n",
    "# Do not waste time to save the result\n",
    "lambdas = (1e-22, 1e-21, 5e-21, 1e-20, 5e-20, 1e-19, 1e-18, 1e-17, 1e-16, 1e-15,\n",
    "           1e-14, 1e-13, 1e-12, 1e-11, 1e-10, 1e-9, 1e-8, 1e-7, 1e-6, 1e-5, 1e-4, 1e-3, 1e-2, 1e-2, 1)\n",
    "\n",
    "trs = []\n",
    "tes= []\n",
    "\n",
    "y, tX, ids = load_csv_data(DATA_TRAIN_PATH)\n",
    "norm_method = get_normalization_methods(tX)\n",
    "tX = normalize_data(tX, norm_method)\n",
    "\n",
    "for lmbd in lambdas:\n",
    "    set_lambda(lmbd)\n",
    "    w = train(tX, y)\n",
    "    tr, te = ret_classif_percentage()\n",
    "    print(tr)\n",
    "    trs.append(tr)\n",
    "    tes.append(te)\n",
    "\n",
    "trs"
   ]
  },
  {
   "cell_type": "code",
   "execution_count": 25,
   "metadata": {
    "collapsed": false,
    "jupyter": {
     "outputs_hidden": false
    },
    "pycharm": {
     "name": "#%%\n"
    }
   },
   "outputs": [
    {
     "data": {
      "image/png": "[encoded data removed]",
      "text/plain": [
       "<Figure size 720x360 with 1 Axes>"
      ]
     },
     "metadata": {
      "needs_background": "light"
     },
     "output_type": "display_data"
    }
   ],
   "source": [
    "from matplotlib import pyplot as plt\n",
    "fig,ax = plt.subplots(figsize=(10,5))\n",
    "\n",
    "lns1 = ax.plot(np.arange(1,len(lambdas)+1), tes, color='#134d6a', label='Average classifications in test folds', marker='o')\n",
    "\n",
    "ax.set_xlabel('Lambda')\n",
    "ax.set_ylabel('Proportion classified')\n",
    "ax.set_xticks(np.arange(1,len(lambdas)+1))\n",
    "ax.set_xticklabels(labels=['%.1e' % x for x in lambdas], rotation=90)\n",
    "ax.legend(loc='upper right')\n",
    "\n",
    "fig.savefig(PLOT_PATH+\"Determining the best lambda.pdf\", bbox_inches='tight')\n",
    "\n",
    "plt.title('Determining the best lambda')\n",
    "plt.show()"
   ]
  }
 ],
 "metadata": {
  "kernelspec": {
   "display_name": "Python 3",
   "language": "python",
   "name": "python3"
  },
  "language_info": {
   "codemirror_mode": {
    "name": "ipython",
    "version": 3
   },
   "file_extension": ".py",
   "mimetype": "text/x-python",
   "name": "python",
   "nbconvert_exporter": "python",
   "pygments_lexer": "ipython3",
   "version": "3.7.6"
  }
 },
 "nbformat": 4,
 "nbformat_minor": 4
}

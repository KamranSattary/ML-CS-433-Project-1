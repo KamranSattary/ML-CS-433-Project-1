{
 "cells": [
  {
   "cell_type": "code",
   "execution_count": 1,
   "metadata": {},
   "outputs": [],
   "source": [
    "import csv\n",
    "import numpy as np\n",
    "\n",
    "data_path = '../data/train.csv'\n",
    "\n",
    "def load_csv_data(data_path, sub_sample=False):\n",
    "    \"\"\"Loads data and returns y (class labels), tX (features) and ids (event ids)\"\"\"\n",
    "    y = np.genfromtxt(data_path, delimiter=\",\", skip_header=1, dtype=str, usecols=1)\n",
    "    x = np.genfromtxt(data_path, delimiter=\",\", skip_header=1)\n",
    "    ids = x[:, 0].astype(np.int)\n",
    "    input_data = x[:, 2:]\n",
    "\n",
    "    # convert class labels from strings to binary (-1,1)\n",
    "    yb = np.ones(len(y))\n",
    "    yb[np.where(y == 'b')] = -1\n",
    "\n",
    "    return yb, input_data, ids\n",
    "\n",
    "y, x, ids = load_csv_data(data_path)"
   ]
  },
  {
   "cell_type": "code",
   "execution_count": 2,
   "metadata": {},
   "outputs": [
    {
     "name": "stdout",
     "output_type": "stream",
     "text": [
      "[ 1.124060e+02  4.652400e+01  7.375200e+01  3.846750e+01  2.107000e+00\n",
      "  2.258850e+02 -2.440000e-01  2.491500e+00  1.231550e+01  1.206645e+02\n",
      "  1.280000e+00 -3.560000e-01  4.540000e-01  3.180400e+01 -2.300000e-02\n",
      " -3.300000e-02  4.051600e+01 -4.500000e-02  8.600000e-02  3.480200e+01\n",
      " -2.400000e-02  1.797390e+02  1.000000e+00  6.556100e+01  0.000000e+00\n",
      " -3.300000e-02  4.790200e+01 -1.000000e-02 -2.000000e-03  4.051250e+01]\n",
      "[ 1.20417434e+02  4.92398193e+01  8.11819816e+01  5.78959617e+01\n",
      "  2.19310420e+00  2.68220619e+02 -4.11628932e-01  2.37309984e+00\n",
      "  1.89173324e+01  1.58432217e+02  1.43760943e+00 -1.28304708e-01\n",
      "  4.55244780e-01  3.87074191e+01 -1.09730480e-02 -8.17107200e-03\n",
      "  4.66602072e+01 -1.95074680e-02  4.35429640e-02  4.17172345e+01\n",
      " -1.01191920e-02  2.09797178e+02  9.79176000e-01  7.71243656e+01\n",
      " -1.96589200e-03 -2.06285240e-02  5.07391493e+01 -1.05354440e-02\n",
      " -1.87879200e-03  7.30645914e+01]\n"
     ]
    }
   ],
   "source": [
    "inds = np.where(x == -999)\n",
    "x[inds] = np.nan\n",
    "\n",
    "col_mean = np.nanmedian(x, axis=0)\n",
    "print(col_mean)\n",
    "\n",
    "#Find indices that you need to replace\n",
    "inds = np.where(np.isnan(x))\n",
    "\n",
    "#Place column means in the indices. Align the arrays using take\n",
    "x[inds] = np.take(col_mean, inds[1])\n",
    "print(np.nanmean(x, axis=0))\n",
    "\n",
    "xmin, xmax = np.min(x, axis=0), np.max(x, axis=0)\n",
    "x = (x - xmin) / (xmax-xmin)\n",
    "# xmean, xstd = np.mean(x, axis=0), np.std(x, axis=0)\n",
    "# x = (x - xmean) / xstd"
   ]
  },
  {
   "cell_type": "code",
   "execution_count": 3,
   "metadata": {},
   "outputs": [],
   "source": [
    "# replace missing values with mean of col\n",
    "# col_mean = np.nanmean(x, axis=0)\n",
    "# inds = np.where(x==-999)\n",
    "# x[inds] = np.take(col_mean, inds[1])\n",
    "#\n",
    "# minmax normalize\n",
    "# xmin, xmax = np.min(x, axis=0), np.max(x, axis=0)\n",
    "# x = (x - xmin) / (xmax-xmin)"
   ]
  },
  {
   "cell_type": "code",
   "execution_count": 4,
   "metadata": {},
   "outputs": [],
   "source": [
    "def compute_mse(y, tx, w):\n",
    "    e = y-tx.dot(w)\n",
    "    mse = e.dot(e) / (2 * len(e))\n",
    "    return mse\n",
    "\n",
    "def build_poly(x, degree):\n",
    "\n",
    "    \"\"\"\n",
    "    Builds polynomial augmented dataset\n",
    "    :param x: \n",
    "    :param degree: \n",
    "    :return:\n",
    "    \"\"\"\n",
    "    r = x.copy()\n",
    "    for deg in range (2,degree+1):\n",
    "        r = np.c_[r, np.power(x, deg)]\n",
    "        \n",
    "    return np.c_[np.ones(r.shape[0]), r]\n",
    "\n",
    "def build_k_indices(y, k_fold, seed):\n",
    "    num_row = y.shape[0]\n",
    "    interval = int(num_row/k_fold)\n",
    "    np.random.seed(seed)\n",
    "    indices = np.random.permutation(num_row)\n",
    "    k_indices = [indices[k*interval: (k+1) * interval] for k in range (k_fold)]\n",
    "    return np.array(k_indices)\n",
    "\n",
    "def batch_iter(y, tx, batch_size, num_batches=1, shuffle=True):\n",
    "\n",
    "    \"\"\"\n",
    "    Generate a minibatch iterator for a dataset.\n",
    "    Takes as input two iterables (here the output desired values 'y' and the input data 'tx')\n",
    "    Outputs an iterator which gives mini-batches of `batch_size` matching elements from `y` and `tx`.\n",
    "    Data can be randomly shuffled to avoid ordering in the original data messing with the randomness of the minibatches.\n",
    "    Example of use :\n",
    "    for minibatch_y, minibatch_tx in batch_iter(y, tx, 32):\n",
    "        <DO-SOMETHING>\n",
    "    \"\"\"\n",
    "\n",
    "    data_size = len(y)\n",
    "\n",
    "    if shuffle:\n",
    "        shuffle_indices = np.random.permutation(np.arange(data_size))\n",
    "        shuffled_y = y[shuffle_indices]\n",
    "        shuffled_tx = tx[shuffle_indices]\n",
    "    else:\n",
    "        shuffled_y = y\n",
    "        shuffled_tx = tx\n",
    "    for batch_num in range(num_batches):\n",
    "        start_index = batch_num * batch_size\n",
    "        end_index = min((batch_num + 1) * batch_size, data_size)\n",
    "        if start_index != end_index:\n",
    "            yield shuffled_y[start_index:end_index], shuffled_tx[start_index:end_index]\n",
    "            \n",
    "def ridge_regression(y, tx, lambda_):\n",
    "    aI = 2 * tx.shape[0] * lambda_ * np.identity(tx.shape[1])\n",
    "    a = tx.T.dot(tx) + aI\n",
    "    b = tx.T.dot(y)\n",
    "    return np.linalg.solve(a,b)"
   ]
  },
  {
   "cell_type": "code",
   "execution_count": null,
   "metadata": {},
   "outputs": [],
   "source": []
  },
  {
   "cell_type": "code",
   "execution_count": 65,
   "metadata": {},
   "outputs": [
    {
     "name": "stdout",
     "output_type": "stream",
     "text": [
      "Lambda 1e-20, degree 1\n",
      "-3.6948663678483626 2.8124660845073777\n",
      "-3.7049491309156224 2.8494775597653756\n",
      "-3.4208944212335837 4.752404292059737\n",
      "-3.795397740338558 3.5859796752183932\n",
      "-4.545590640663875 2.9055538129203597\n",
      "-4.45425273269916 3.2114288384565555\n",
      "-3.0169640826607065 2.91178573796509\n",
      "Total predicted 186247, Test 0.2549900399203193 Training misclassification 0.2549347061443158\n",
      "Lambda 1e-20, degree 2\n",
      "-3.588426153193268 3.326276018334795\n",
      "-3.6920449491054796 1.8540675080589182\n",
      "-16.367062355184657 5.037129494512669\n",
      "-7.691833723273366 2.854596963254153\n",
      "-3.639362235117378 174.49996452865722\n",
      "-4.505748112687712 4.370549754032822\n",
      "-3.8594905599518228 3.225008060028358\n",
      "Total predicted 193700, Test 0.22540180321442574 Training misclassification 0.22520113494241287\n",
      "Lambda 1e-20, degree 3\n",
      "-3.3158881360572536 2.001320764498473\n",
      "-3.2307459037232196 5.254826236719282\n",
      "-5.004502321125983 27.6115827051799\n",
      "-3.522459935759798 10.887612300645628\n",
      "-1902.3005959867046 2.5146088787278416\n",
      "-3.0812906924459753 8.113701919252435\n",
      "-3.062710130148375 3.3967269101073043\n",
      "Total predicted 196393, Test 0.21450571604572838 Training misclassification 0.21428104758171398\n",
      "Lambda 1e-20, degree 4\n",
      "-2.4815826208512846 1.9108265978276506\n",
      "-12.792693014514839 7.3583255932366285\n",
      "-36.98120107384568 1.9829311806364416\n",
      "-18.308412763771685 4.995684767913701\n",
      "-12.43653505350926 18917.807803591677\n",
      "-8.652699836265981 1.6702304015611418\n",
      "-2.3824806289244975 2.3302850716535772\n",
      "Total predicted 198314, Test 0.207109656877255 Training misclassification 0.20673765390123117\n",
      "Lambda 1e-20, degree 5\n",
      "-3.3353622691759313 1.8914023357634093\n",
      "-7.781029131992568 4.5356718988358296\n",
      "-4.3147032915558725 75.20578988235502\n",
      "-9.195485445552094 1.7847106710387948\n",
      "-8.575568403446368 72853.1246737006\n",
      "-25.99131109566838 2.276480190263534\n",
      "-4.483266901477123 2.11225009183579\n",
      "Total predicted 199242, Test 0.20344562756502052 Training misclassification 0.20308362466899735\n",
      "Lambda 1e-20, degree 6\n",
      "-2.5115009827268295 2.249909986262537\n",
      "-3.448041538715188 7.4927634909508924\n",
      "-149.68762023369345 2.548690988269982\n",
      "-5.011708685245139 133.46991187933054\n",
      "-5160124.825867153 1.6617657916166308\n",
      "-5.382580806777696 128.00106431170025\n",
      "-3.1614436700824626 4.062190456988901\n",
      "Total predicted 199800, Test 0.20113360906887254 Training misclassification 0.20074893932484789\n",
      "Lambda 1e-20, degree 7\n",
      "-3.9369669335683284 2.1934309472198947\n",
      "-50.07330881067901 2.5975473076541675\n",
      "-116.2482421456607 4.513982553221922\n",
      "-460.5893941564718 2.135478239272743\n",
      "-16774482.433416056 39.5042051959972\n",
      "-9.869062069035863 272.6956716970035\n",
      "-4.861948070771177 11.710231436262802\n",
      "Total predicted 201352, Test 0.19494955959647675 Training misclassification 0.19465422390045786\n",
      "Lambda 1e-20, degree 8\n",
      "-3.170077321057761 2.068225240756874\n",
      "-4.101779274351429 122.45695748535218\n",
      "-3.016752053721575 518.1197546196636\n",
      "-60.521972317550535 944.5307234061183\n",
      "-11455516.143116564 236.59474335124833\n",
      "-395.6885179321762 4.798742749171652\n",
      "-4.700674085441278 64.99172542268752\n",
      "Total predicted 203082, Test 0.1881575052600421 Training misclassification 0.18763616775600875\n",
      "Lambda 1e-20, degree 9\n",
      "-3.394007426017197 6.760213059198577\n",
      "-240.15085109317442 1.595615849699243\n",
      "-6847.694776250981 14.40079269616399\n",
      "-1081.7572109014727 33.11091581141227\n",
      "-6460927.843662806 6.269356178439921\n",
      "-3.461314680345822 266.5579983680218\n",
      "-2.73495782376267 45.95031505865336\n",
      "Total predicted 204144, Test 0.18411347290778327 Training misclassification 0.18336280023573523\n"
     ]
    }
   ],
   "source": [
    "# try training with different lambdas and refine the lambdas depending on what magnitude turns out to be best\n",
    "# same idea with degrees\n",
    "import pickle\n",
    "\n",
    "lambdas = np.array([1e-20]) #np.logspace(-25,2,10)\n",
    "degrees = np.arange(1,10)\n",
    "seed = 12\n",
    "k_fold = 7\n",
    "\n",
    "\n",
    "def predict(tx, w):\n",
    "    return tx.dot(w)\n",
    "\n",
    "def cross_validation(y, x, k_indices, k, lambda_, degree):\n",
    "    te_indice = k_indices[k]\n",
    "    tr_indice = k_indices[~(np.arange(k_indices.shape[0]) == k)]\n",
    "    tr_indice = tr_indice.reshape(-1)\n",
    "    y_te, y_tr = y[te_indice], y[tr_indice]\n",
    "    x_te, x_tr = x[te_indice], x[tr_indice]\n",
    "    \n",
    "    tx_tr = build_poly(x_tr, degree)\n",
    "    tx_te = build_poly(x_te, degree)\n",
    "    \n",
    "    w = ridge_regression(y_tr, tx_tr, lambda_)\n",
    "    \n",
    "    loss_tr = compute_mse(y_tr, tx_tr, w)\n",
    "    loss_te = compute_mse(y_te, tx_te, w)\n",
    "    \n",
    "    y_tr_pred = predict(tx_tr, w)\n",
    "    y_te_pred = predict(tx_te, w)\n",
    "    print(np.min(y_te_pred),np.max(y_te_pred))\n",
    "    \n",
    "    y_tr_pred[np.where(y_tr_pred <= 0)] = -1\n",
    "    y_tr_pred[np.where(y_tr_pred > 0)] = 1\n",
    "    \n",
    "    y_te_pred[np.where(y_te_pred <= 0)] = -1\n",
    "    y_te_pred[np.where(y_te_pred > 0)] = 1\n",
    "\n",
    "    loss_tr_acc = sum(y_tr_pred != y_tr)/len(y_tr)\n",
    "    loss_te_acc = sum(y_te_pred != y_te)/len(y_te)\n",
    "    \n",
    "    return loss_tr, loss_te, w, loss_tr_acc, loss_te_acc\n",
    "\n",
    "def cross_validation_demo():\n",
    "   \n",
    "    k_indices = build_k_indices(y, k_fold, seed)\n",
    "\n",
    "    best_lambdas = []\n",
    "    best_losses = []\n",
    "    best_weights = []\n",
    "    best_losses_tr = []\n",
    "    best_losses_te_acc = []\n",
    "    best_losses_tr_acc = []\n",
    "    \n",
    "    j = 0 #jth degree\n",
    "    for deg in degrees:\n",
    "        i = 0 #ith lambda\n",
    "        losses_te = []\n",
    "        losses_tr = []\n",
    "        losses_te_acc = []\n",
    "        losses_tr_acc = []\n",
    "        ws = []\n",
    "        for lambda_ in lambdas:\n",
    "            print(f'Lambda {lambdas[i]}, degree {degrees[j]}')\n",
    "            i += 1\n",
    "            ws_tmp = []\n",
    "            loss_te_tmp = []\n",
    "            loss_tr_tmp = []\n",
    "            loss_te_acc_tmp = []\n",
    "            loss_tr_acc_tmp = []\n",
    "            \n",
    "            for k in range(k_fold):\n",
    "                #print(f'Fold {k}/{k_fold}')\n",
    "                loss_tr, loss_te, w, loss_tr_acc, loss_te_acc = cross_validation(y, x, k_indices, k, lambda_, deg)\n",
    "                \n",
    "                loss_te_tmp.append(loss_te)\n",
    "                loss_tr_tmp.append(loss_tr)\n",
    "                loss_te_acc_tmp.append(loss_te_acc)\n",
    "                loss_tr_acc_tmp.append(loss_tr_acc)\n",
    "                ws_tmp.append(w)\n",
    "            losses_te.append(np.mean(loss_te_tmp, axis=0))\n",
    "            losses_tr.append(np.mean(loss_tr_tmp, axis=0))\n",
    "            losses_te_acc.append(np.mean(loss_te_acc_tmp, axis=0))\n",
    "            losses_tr_acc.append(np.mean(loss_tr_acc_tmp, axis=0))\n",
    "            ws.append(np.mean(ws_tmp, axis=0))\n",
    "            \n",
    "            def predict(tx, w):\n",
    "                return tx.dot(w)\n",
    "\n",
    "            y_pred = predict(build_poly(x, deg), np.mean(ws_tmp, axis=0))\n",
    "            y_pred[np.where(y_pred <= 0)] = -1\n",
    "            y_pred[np.where(y_pred > 0)] = 1\n",
    "        \n",
    "            print(f'Total predicted {sum(y_pred == y)}, Test {np.mean(loss_te_acc_tmp, axis=0)} Training misclassification {np.mean(loss_tr_acc_tmp, axis=0)}') # how many would the trained model predict on the train set\n",
    "\n",
    "        j += 1\n",
    "        ind_lambda_opt = np.argmin(loss_te)\n",
    "        best_lambdas.append(lambdas[ind_lambda_opt])\n",
    "        best_losses.append(losses_te[ind_lambda_opt])\n",
    "        best_weights.append(ws[ind_lambda_opt])\n",
    "        best_losses_tr.append(losses_tr[ind_lambda_opt])\n",
    "        best_losses_te_acc.append(losses_te_acc[ind_lambda_opt])\n",
    "        best_losses_tr_acc.append(losses_tr_acc[ind_lambda_opt])\n",
    "        \n",
    "        with open('../../vars_ridge.pkl', 'wb') as f:\n",
    "            pickle.dump([best_lambdas,best_losses,best_losses_tr,best_weights, best_losses_te_acc, best_losses_tr_acc], f)\n",
    "        \n",
    "    ind_best_degree = np.argmin(best_losses)\n",
    "\n",
    "    return degrees[ind_best_degree], best_lambdas, best_weights, best_losses, best_losses_tr, best_losses_te_acc, best_losses_tr_acc\n",
    "\n",
    "best_degree, best_lambdas_per_degree, best_weights_per_degree, best_losses_te, best_losses_tr, best_losses_te_acc, best_losses_tr_acc = cross_validation_demo()"
   ]
  },
  {
   "cell_type": "code",
   "execution_count": 18,
   "metadata": {},
   "outputs": [
    {
     "data": {
      "text/plain": [
       "1"
      ]
     },
     "execution_count": 18,
     "metadata": {},
     "output_type": "execute_result"
    }
   ],
   "source": [
    "best_degree"
   ]
  },
  {
   "cell_type": "code",
   "execution_count": 17,
   "metadata": {},
   "outputs": [
    {
     "data": {
      "text/plain": [
       "[1e-25, 1e-25, 1e-25, 1e-25, 1e-25, 1e-25]"
      ]
     },
     "execution_count": 17,
     "metadata": {},
     "output_type": "execute_result"
    }
   ],
   "source": [
    "best_lambdas_per_degree"
   ]
  },
  {
   "cell_type": "code",
   "execution_count": null,
   "metadata": {},
   "outputs": [],
   "source": [
    "# is there any way to show that the lambda preferred by both lowest mse and lowest misclassifications is the same?"
   ]
  },
  {
   "cell_type": "code",
   "execution_count": 6,
   "metadata": {},
   "outputs": [
    {
     "data": {
      "text/plain": [
       "[10615.262765634072, 53254223.52679757]"
      ]
     },
     "execution_count": 6,
     "metadata": {},
     "output_type": "execute_result"
    }
   ],
   "source": [
    "best_losses_te"
   ]
  },
  {
   "cell_type": "code",
   "execution_count": 27,
   "metadata": {},
   "outputs": [
    {
     "data": {
      "image/png": "[encoded data removed]",
      "text/plain": [
       "<Figure size 432x288 with 1 Axes>"
      ]
     },
     "metadata": {
      "needs_background": "light"
     },
     "output_type": "display_data"
    }
   ],
   "source": [
    "import matplotlib.pyplot as plt\n",
    "\n",
    "plt.plot(best_losses_te, label='average test mse during cross validation')\n",
    "plt.plot(best_losses_tr, label='average train mse during cross validation')\n",
    "plt.yscale('log')\n",
    "plt.xlabel('degree')\n",
    "plt.ylabel('mse')\n",
    "plt.legend(loc=\"upper left\")\n",
    "plt.show()"
   ]
  },
  {
   "cell_type": "code",
   "execution_count": 30,
   "metadata": {},
   "outputs": [
    {
     "data": {
      "image/png": "[encoded data removed]",
      "text/plain": [
       "<Figure size 432x288 with 1 Axes>"
      ]
     },
     "metadata": {
      "needs_background": "light"
     },
     "output_type": "display_data"
    }
   ],
   "source": [
    "import matplotlib.pyplot as plt\n",
    "\n",
    "plt.plot(best_losses_te_acc, label='average test missclassification percentage during cross validation')\n",
    "plt.plot(best_losses_tr_acc, label='average train missclassification percentage during cross validation')\n",
    "plt.xlabel('degree')\n",
    "plt.ylabel('missclassification percentage')\n",
    "plt.legend(loc=\"upper right\")\n",
    "plt.show()"
   ]
  },
  {
   "cell_type": "code",
   "execution_count": 82,
   "metadata": {},
   "outputs": [
    {
     "data": {
      "text/plain": [
       "<matplotlib.legend.Legend at 0x7f210a3ad490>"
      ]
     },
     "execution_count": 82,
     "metadata": {},
     "output_type": "execute_result"
    },
    {
     "data": {
      "image/png": "[encoded data removed]",
      "text/plain": [
       "<Figure size 432x288 with 2 Axes>"
      ]
     },
     "metadata": {
      "needs_background": "light"
     },
     "output_type": "display_data"
    }
   ],
   "source": [
    "import matplotlib.pyplot as plt\n",
    "\n",
    "fig,ax = plt.subplots()\n",
    "\n",
    "\n",
    "ax.plot(best_losses_te, color='red', label='average test mse during cross validation')\n",
    "ax.plot(best_losses_tr, color='purple', label='average train mse during cross validation')\n",
    "ax.set_yscale('log')\n",
    "ax.set_xlabel('degree')\n",
    "ax.set_ylabel('mse')\n",
    "ax.legend(bbox_to_anchor=(1.1, 0.5))\n",
    "ax2=ax.twinx()\n",
    "\n",
    "ax2.plot(best_losses_te_acc, color='green', label='average test missclassification percentage during cross validation')\n",
    "ax2.plot(best_losses_tr_acc, color='blue', label='average train missclassification percentage during cross validation')\n",
    "ax2.legend(bbox_to_anchor=(1.1, 1))\n"
   ]
  },
  {
   "cell_type": "code",
   "execution_count": 7,
   "metadata": {},
   "outputs": [
    {
     "data": {
      "text/plain": [
       "199242"
      ]
     },
     "execution_count": 7,
     "metadata": {},
     "output_type": "execute_result"
    }
   ],
   "source": [
    "def predict(tx, w):\n",
    "    return tx.dot(w)\n",
    "\n",
    "y_pred = predict(build_poly(x, best_degree), best_weights_per_degree[0])\n",
    "y_pred[np.where(y_pred <= 0)] = -1\n",
    "y_pred[np.where(y_pred > 0)] = 1\n",
    "\n",
    "sum(y_pred == y)"
   ]
  },
  {
   "cell_type": "code",
   "execution_count": 83,
   "metadata": {},
   "outputs": [
    {
     "data": {
      "text/plain": [
       "Text(0, 0.5, 'Y prediction')"
      ]
     },
     "execution_count": 83,
     "metadata": {},
     "output_type": "execute_result"
    },
    {
     "data": {
      "image/png": "[encoded data removed]",
      "text/plain": [
       "<Figure size 432x288 with 1 Axes>"
      ]
     },
     "metadata": {
      "needs_background": "light"
     },
     "output_type": "display_data"
    }
   ],
   "source": [
    "import seaborn as sns\n",
    "\n",
    "y_pred_deg_5 = predict(build_poly(x, 5), best_weights_per_degree[4])\n",
    "y_pred_deg_6 = predict(build_poly(x, 6), best_weights_per_degree[5])\n",
    "\n",
    "ax = sns.boxplot(data=[y_pred_deg_5,y_pred_deg_6])\n",
    "ax.set_yscale('log')\n",
    "ax.set_xticklabels(['Degree 5','Degree 6'])\n",
    "ax.set_ylabel('Y prediction')"
   ]
  },
  {
   "cell_type": "code",
   "execution_count": 109,
   "metadata": {},
   "outputs": [],
   "source": [
    "test_path = '../data/test.csv'\n",
    "\n",
    "y, x, ids = load_csv_data(test_path)"
   ]
  },
  {
   "cell_type": "code",
   "execution_count": 110,
   "metadata": {},
   "outputs": [],
   "source": [
    "# replace missing values with mean of col\n",
    "inds = np.where(x==-999)\n",
    "x[inds] = np.take(col_mean, inds[1])\n",
    "\n",
    "# minmax normalize\n",
    "x = (x - xmin) / (xmax-xmin)"
   ]
  },
  {
   "cell_type": "code",
   "execution_count": 113,
   "metadata": {},
   "outputs": [],
   "source": [
    "def create_csv_submission(ids, y_pred, name):\n",
    "    \"\"\"\n",
    "    Creates an output file in csv format for submission to kaggle\n",
    "    Arguments: ids (event ids associated with each prediction)\n",
    "               y_pred (predicted class labels)\n",
    "               name (string name of .csv output file to be created)\n",
    "    \"\"\"\n",
    "    with open(name, 'w') as csvfile:\n",
    "        fieldnames = ['Id', 'Prediction']\n",
    "        writer = csv.DictWriter(csvfile, delimiter=\",\", fieldnames=fieldnames)\n",
    "        writer.writeheader()\n",
    "        for r1, r2 in zip(ids, y_pred):\n",
    "            writer.writerow({'Id':int(r1),'Prediction':int(r2)})\n",
    "\n",
    "            \n",
    "y_pred = predict(build_poly(x, 9), best_weights_per_degree[0])\n",
    "y_pred[np.where(y_pred <= 0)] = -1\n",
    "y_pred[np.where(y_pred > 0)] = 1\n",
    "\n",
    "#create_csv_submission(ids, y_pred, 'ridge_deg9_1e-18.csv')"
   ]
  }
 ],
 "metadata": {
  "kernelspec": {
   "display_name": "Python 3",
   "language": "python",
   "name": "python3"
  },
  "language_info": {
   "codemirror_mode": {
    "name": "ipython",
    "version": 3
   },
   "file_extension": ".py",
   "mimetype": "text/x-python",
   "name": "python",
   "nbconvert_exporter": "python",
   "pygments_lexer": "ipython3",
   "version": "3.7.6"
  }
 },
 "nbformat": 4,
 "nbformat_minor": 4
}

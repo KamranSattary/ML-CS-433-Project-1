{
 "cells": [
  {
   "cell_type": "code",
   "execution_count": 7,
   "metadata": {},
   "outputs": [],
   "source": [
    "import csv\n",
    "import numpy as np\n",
    "\n",
    "data_path = '../data/train.csv'\n",
    "\n",
    "def load_csv_data(data_path, sub_sample=False):\n",
    "    \"\"\"Loads data and returns y (class labels), tX (features) and ids (event ids)\"\"\"\n",
    "    y = np.genfromtxt(data_path, delimiter=\",\", skip_header=1, dtype=str, usecols=1)\n",
    "    x = np.genfromtxt(data_path, delimiter=\",\", skip_header=1)\n",
    "    ids = x[:, 0].astype(np.int)\n",
    "    input_data = x[:, 2:]\n",
    "\n",
    "    # convert class labels from strings to binary (-1,1)\n",
    "    yb = np.ones(len(y))\n",
    "    yb[np.where(y == 'b')] = -1\n",
    "\n",
    "    return yb, input_data, ids\n",
    "\n",
    "y, x, ids = load_csv_data(data_path)"
   ]
  },
  {
   "cell_type": "code",
   "execution_count": 8,
   "metadata": {},
   "outputs": [
    {
     "name": "stdout",
     "output_type": "stream",
     "text": [
      "[ 1.124060e+02  4.652400e+01  7.375200e+01  3.846750e+01  2.107000e+00\n",
      "  2.258850e+02 -2.440000e-01  2.491500e+00  1.231550e+01  1.206645e+02\n",
      "  1.280000e+00 -3.560000e-01  4.540000e-01  3.180400e+01 -2.300000e-02\n",
      " -3.300000e-02  4.051600e+01 -4.500000e-02  8.600000e-02  3.480200e+01\n",
      " -2.400000e-02  1.797390e+02  1.000000e+00  6.556100e+01  0.000000e+00\n",
      " -3.300000e-02  4.790200e+01 -1.000000e-02 -2.000000e-03  4.051250e+01]\n",
      "[ 1.20417434e+02  4.92398193e+01  8.11819816e+01  5.78959617e+01\n",
      "  2.19310420e+00  2.68220619e+02 -4.11628932e-01  2.37309984e+00\n",
      "  1.89173324e+01  1.58432217e+02  1.43760943e+00 -1.28304708e-01\n",
      "  4.55244780e-01  3.87074191e+01 -1.09730480e-02 -8.17107200e-03\n",
      "  4.66602072e+01 -1.95074680e-02  4.35429640e-02  4.17172345e+01\n",
      " -1.01191920e-02  2.09797178e+02  9.79176000e-01  7.71243656e+01\n",
      " -1.96589200e-03 -2.06285240e-02  5.07391493e+01 -1.05354440e-02\n",
      " -1.87879200e-03  7.30645914e+01]\n"
     ]
    }
   ],
   "source": [
    "inds = np.where(x == -999)\n",
    "x[inds] = np.nan\n",
    "\n",
    "col_mean = np.nanmedian(x, axis=0)\n",
    "print(col_mean)\n",
    "\n",
    "#Find indices that you need to replace\n",
    "inds = np.where(np.isnan(x))\n",
    "\n",
    "#Place column means in the indices. Align the arrays using take\n",
    "x[inds] = np.take(col_mean, inds[1])\n",
    "print(np.nanmean(x, axis=0))\n",
    "\n",
    "xmin, xmax = np.min(x, axis=0), np.max(x, axis=0)\n",
    "x = (x - xmin) / (xmax-xmin)\n",
    "# xmean, xstd = np.mean(x, axis=0), np.std(x, axis=0)\n",
    "# x = (x - xmean) / xstd"
   ]
  },
  {
   "cell_type": "code",
   "execution_count": 9,
   "metadata": {},
   "outputs": [],
   "source": [
    "# replace missing values with mean of col\n",
    "# col_mean = np.nanmean(x, axis=0)\n",
    "# inds = np.where(x==-999)\n",
    "# x[inds] = np.take(col_mean, inds[1])\n",
    "#\n",
    "# minmax normalize\n",
    "# xmin, xmax = np.min(x, axis=0), np.max(x, axis=0)\n",
    "# x = (x - xmin) / (xmax-xmin)"
   ]
  },
  {
   "cell_type": "code",
   "execution_count": 10,
   "metadata": {},
   "outputs": [],
   "source": [
    "def compute_mse(y, tx, w):\n",
    "    e = y-tx.dot(w)\n",
    "    mse = e.dot(e) / (2 * len(e))\n",
    "    return mse\n",
    "\n",
    "def build_poly(x, degree):\n",
    "\n",
    "    \"\"\"\n",
    "    Builds polynomial augmented dataset\n",
    "    :param x: \n",
    "    :param degree: \n",
    "    :return:\n",
    "    \"\"\"\n",
    "    r = x.copy()\n",
    "    for deg in range (2,degree+1):\n",
    "        r = np.c_[r, np.power(x, deg)]\n",
    "        \n",
    "    return np.c_[np.ones(r.shape[0]), r]\n",
    "\n",
    "def build_k_indices(y, k_fold, seed):\n",
    "    num_row = y.shape[0]\n",
    "    interval = int(num_row/k_fold)\n",
    "    np.random.seed(seed)\n",
    "    indices = np.random.permutation(num_row)\n",
    "    k_indices = [indices[k*interval: (k+1) * interval] for k in range (k_fold)]\n",
    "    return np.array(k_indices)\n",
    "\n",
    "def batch_iter(y, tx, batch_size, num_batches=1, shuffle=True):\n",
    "\n",
    "    \"\"\"\n",
    "    Generate a minibatch iterator for a dataset.\n",
    "    Takes as input two iterables (here the output desired values 'y' and the input data 'tx')\n",
    "    Outputs an iterator which gives mini-batches of `batch_size` matching elements from `y` and `tx`.\n",
    "    Data can be randomly shuffled to avoid ordering in the original data messing with the randomness of the minibatches.\n",
    "    Example of use :\n",
    "    for minibatch_y, minibatch_tx in batch_iter(y, tx, 32):\n",
    "        <DO-SOMETHING>\n",
    "    \"\"\"\n",
    "\n",
    "    data_size = len(y)\n",
    "\n",
    "    if shuffle:\n",
    "        shuffle_indices = np.random.permutation(np.arange(data_size))\n",
    "        shuffled_y = y[shuffle_indices]\n",
    "        shuffled_tx = tx[shuffle_indices]\n",
    "    else:\n",
    "        shuffled_y = y\n",
    "        shuffled_tx = tx\n",
    "    for batch_num in range(num_batches):\n",
    "        start_index = batch_num * batch_size\n",
    "        end_index = min((batch_num + 1) * batch_size, data_size)\n",
    "        if start_index != end_index:\n",
    "            yield shuffled_y[start_index:end_index], shuffled_tx[start_index:end_index]\n",
    "            \n",
    "def ridge_regression(y, tx, lambda_):\n",
    "    aI = 2 * tx.shape[0] * lambda_ * np.identity(tx.shape[1])\n",
    "    a = tx.T.dot(tx) + aI\n",
    "    b = tx.T.dot(y)\n",
    "    return np.linalg.solve(a,b)"
   ]
  },
  {
   "cell_type": "code",
   "execution_count": 14,
   "metadata": {},
   "outputs": [
    {
     "name": "stdout",
     "output_type": "stream",
     "text": [
      "Lambda 1e-25, degree 1\n",
      "Total predicted 186247, Test 0.2549900399203193 Training accuracy 0.2549347061443158\n",
      "Lambda 1e-22, degree 1\n",
      "Total predicted 186247, Test 0.2549900399203193 Training accuracy 0.2549347061443158\n",
      "Lambda 1e-19, degree 1\n",
      "Total predicted 186247, Test 0.2549900399203193 Training accuracy 0.2549347061443158\n",
      "Lambda 1e-16, degree 1\n",
      "Total predicted 186247, Test 0.2549860398883191 Training accuracy 0.25493670616031594\n",
      "Lambda 1e-13, degree 1\n",
      "Total predicted 186250, Test 0.25497003976031807 Training accuracy 0.25492537273631527\n",
      "Lambda 1e-10, degree 1\n",
      "Total predicted 186258, Test 0.2549700397603181 Training accuracy 0.25493003944031556\n",
      "Lambda 1e-07, degree 1\n",
      "Total predicted 186262, Test 0.2549900399203193 Training accuracy 0.254953372960317\n",
      "Lambda 0.0001, degree 1\n",
      "Total predicted 183248, Test 0.2672741381931055 Training accuracy 0.26699080259308744\n",
      "Lambda 0.1, degree 1\n",
      "Total predicted 164785, Test 0.34087872702981625 Training accuracy 0.34085539350981475\n",
      "Lambda 100.0, degree 1\n",
      "Total predicted 164333, Test 0.3426667413339306 Training accuracy 0.34266674133393066\n",
      "Lambda 1e-25, degree 2\n",
      "Total predicted 193700, Test 0.22540180321442574 Training accuracy 0.22520113494241287\n",
      "Lambda 1e-22, degree 2\n",
      "Total predicted 193700, Test 0.22540180321442574 Training accuracy 0.22520113494241287\n",
      "Lambda 1e-19, degree 2\n",
      "Total predicted 193700, Test 0.22540180321442574 Training accuracy 0.22520113494241287\n",
      "Lambda 1e-16, degree 2\n",
      "Total predicted 193700, Test 0.22540580324642598 Training accuracy 0.22520046827041287\n",
      "Lambda 1e-13, degree 2\n",
      "Total predicted 193721, Test 0.22539380315042523 Training accuracy 0.22521913508641406\n",
      "Lambda 1e-10, degree 2\n",
      "Total predicted 193716, Test 0.2253938031504252 Training accuracy 0.22523180185441485\n",
      "Lambda 1e-07, degree 2\n",
      "Total predicted 193667, Test 0.22545380363042902 Training accuracy 0.22537580300642407\n",
      "Lambda 0.0001, degree 2\n",
      "Total predicted 189185, Test 0.2433579468635749 Training accuracy 0.24323527921556704\n",
      "Lambda 0.1, degree 2\n",
      "Total predicted 170641, Test 0.31755054040432323 Training accuracy 0.31748187318831883\n",
      "Lambda 100.0, degree 2\n",
      "Total predicted 164333, Test 0.3426667413339306 Training accuracy 0.34266674133393066\n",
      "Lambda 1e-25, degree 3\n",
      "Total predicted 196393, Test 0.21450571604572838 Training accuracy 0.21428104758171398\n",
      "Lambda 1e-22, degree 3\n",
      "Total predicted 196393, Test 0.21450571604572838 Training accuracy 0.21428104758171398\n",
      "Lambda 1e-19, degree 3\n",
      "Total predicted 196393, Test 0.21450571604572838 Training accuracy 0.21428104758171398\n",
      "Lambda 1e-16, degree 3\n",
      "Total predicted 196394, Test 0.2145017160137281 Training accuracy 0.21427904756571386\n",
      "Lambda 1e-13, degree 3\n",
      "Total predicted 196405, Test 0.21450571604572838 Training accuracy 0.21428038090971396\n",
      "Lambda 1e-10, degree 3\n",
      "Total predicted 196415, Test 0.2145097160777286 Training accuracy 0.21435238148571853\n",
      "Lambda 1e-07, degree 3\n",
      "Total predicted 195974, Test 0.21619772958183667 Training accuracy 0.21611772894183154\n",
      "Lambda 0.0001, degree 3\n",
      "Total predicted 189554, Test 0.24204593636749092 Training accuracy 0.24184326807947798\n",
      "Lambda 0.1, degree 3\n",
      "Total predicted 172536, Test 0.3098864790918327 Training accuracy 0.3098484787878303\n",
      "Lambda 100.0, degree 3\n",
      "Total predicted 164333, Test 0.3426667413339306 Training accuracy 0.34266674133393066\n",
      "Lambda 1e-25, degree 4\n",
      "Total predicted 198314, Test 0.207109656877255 Training accuracy 0.20673765390123117\n",
      "Lambda 1e-22, degree 4\n",
      "Total predicted 198314, Test 0.207109656877255 Training accuracy 0.20673765390123117\n",
      "Lambda 1e-19, degree 4\n",
      "Total predicted 198314, Test 0.207109656877255 Training accuracy 0.20673765390123117\n",
      "Lambda 1e-16, degree 4\n",
      "Total predicted 198314, Test 0.20711365690925526 Training accuracy 0.20673698722923115\n",
      "Lambda 1e-13, degree 4\n",
      "Total predicted 198321, Test 0.20719765758126066 Training accuracy 0.20674232060523148\n",
      "Lambda 1e-10, degree 4\n",
      "Total predicted 198139, Test 0.20766566132529057 Training accuracy 0.20729232500526673\n",
      "Lambda 1e-07, degree 4\n",
      "Total predicted 196479, Test 0.21421371370970968 Training accuracy 0.2139797118376947\n",
      "Lambda 0.0001, degree 4\n",
      "Total predicted 189549, Test 0.24185393483147868 Training accuracy 0.24183460134347737\n",
      "Lambda 0.1, degree 4\n",
      "Total predicted 173258, Test 0.30683845470763765 Training accuracy 0.3069244553956431\n",
      "Lambda 100.0, degree 4\n",
      "Total predicted 164333, Test 0.3426667413339306 Training accuracy 0.34266674133393066\n",
      "Lambda 1e-25, degree 5\n",
      "Total predicted 199242, Test 0.20344562756502052 Training accuracy 0.20308362466899735\n",
      "Lambda 1e-22, degree 5\n",
      "Total predicted 199242, Test 0.20344562756502052 Training accuracy 0.20308362466899735\n",
      "Lambda 1e-19, degree 5\n",
      "Total predicted 199243, Test 0.20344562756502052 Training accuracy 0.20308362466899735\n",
      "Lambda 1e-16, degree 5\n",
      "Total predicted 199238, Test 0.20344562756502055 Training accuracy 0.203093624748998\n",
      "Lambda 1e-13, degree 5\n",
      "Total predicted 199159, Test 0.20362562900503203 Training accuracy 0.20331495985301215\n",
      "Lambda 1e-10, degree 5\n",
      "Total predicted 199056, Test 0.2042176337410699 Training accuracy 0.2038609642210471\n",
      "Lambda 1e-07, degree 5\n",
      "Total predicted 196804, Test 0.21303770430163443 Training accuracy 0.2126963682376126\n",
      "Lambda 0.0001, degree 5\n",
      "Total predicted 189532, Test 0.2419459355674846 Training accuracy 0.241812601167476\n",
      "Lambda 0.1, degree 5\n",
      "Total predicted 173671, Test 0.30535044280354245 Training accuracy 0.3053564428515428\n",
      "Lambda 100.0, degree 5\n",
      "Total predicted 164333, Test 0.3426667413339306 Training accuracy 0.34266674133393066\n",
      "Lambda 1e-25, degree 6\n",
      "Total predicted 199800, Test 0.20113760910087278 Training accuracy 0.20074560596484772\n",
      "Lambda 1e-22, degree 6\n",
      "Total predicted 199800, Test 0.20113760910087278 Training accuracy 0.20074560596484772\n",
      "Lambda 1e-19, degree 6\n",
      "Total predicted 199800, Test 0.2011176089408715 Training accuracy 0.2007536060288482\n",
      "Lambda 1e-16, degree 6\n",
      "Total predicted 199806, Test 0.20113760910087278 Training accuracy 0.2008329399968533\n",
      "Lambda 1e-13, degree 6\n",
      "Total predicted 199728, Test 0.20148561188489508 Training accuracy 0.2011922762048763\n",
      "Lambda 1e-10, degree 6\n",
      "Total predicted 199188, Test 0.20353762830102642 Training accuracy 0.20328295959701012\n",
      "Lambda 1e-07, degree 6\n",
      "Total predicted 196921, Test 0.212765702125617 Training accuracy 0.21236636559759145\n",
      "Lambda 0.0001, degree 6\n",
      "Total predicted 189532, Test 0.24192593540748325 Training accuracy 0.241781267583474\n",
      "Lambda 0.1, degree 6\n",
      "Total predicted 173858, Test 0.3045344362754902 Training accuracy 0.30456176982749195\n",
      "Lambda 100.0, degree 6\n",
      "Total predicted 164333, Test 0.3426667413339306 Training accuracy 0.34266674133393066\n"
     ]
    }
   ],
   "source": [
    "# try training with different lambdas and refine the lambdas depending on what magnitude turns out to be best\n",
    "# same idea with degrees\n",
    "import pickle\n",
    "\n",
    "lambdas = np.logspace(-25,2,10)\n",
    "degrees = np.arange(1,7)\n",
    "seed = 12\n",
    "k_fold = 7\n",
    "\n",
    "\n",
    "def predict(tx, w):\n",
    "    return tx.dot(w)\n",
    "\n",
    "def cross_validation(y, x, k_indices, k, lambda_, degree):\n",
    "    te_indice = k_indices[k]\n",
    "    tr_indice = k_indices[~(np.arange(k_indices.shape[0]) == k)]\n",
    "    tr_indice = tr_indice.reshape(-1)\n",
    "    y_te, y_tr = y[te_indice], y[tr_indice]\n",
    "    x_te, x_tr = x[te_indice], x[tr_indice]\n",
    "    \n",
    "    tx_tr = build_poly(x_tr, degree)\n",
    "    tx_te = build_poly(x_te, degree)\n",
    "    initial_w = np.ones(tx_tr.shape[1])\n",
    "    \n",
    "    w = ridge_regression(y_tr, tx_tr, lambda_)\n",
    "    \n",
    "    loss_tr = compute_mse(y_tr, tx_tr, w)\n",
    "    loss_te = compute_mse(y_te, tx_te, w)\n",
    "    \n",
    "    y_tr_pred = predict(tx_tr, w)\n",
    "    y_te_pred = predict(tx_te, w)\n",
    "    \n",
    "    y_tr_pred[np.where(y_tr_pred <= 0)] = -1\n",
    "    y_tr_pred[np.where(y_tr_pred > 0)] = 1\n",
    "    \n",
    "    y_te_pred[np.where(y_te_pred <= 0)] = -1\n",
    "    y_te_pred[np.where(y_te_pred > 0)] = 1\n",
    "\n",
    "    loss_tr_acc = sum(y_tr_pred != y_tr)/len(y_tr)\n",
    "    loss_te_acc = sum(y_te_pred != y_te)/len(y_te)\n",
    "    \n",
    "    return loss_tr, loss_te, w, loss_tr_acc, loss_te_acc\n",
    "\n",
    "def cross_validation_demo():\n",
    "   \n",
    "    k_indices = build_k_indices(y, k_fold, seed)\n",
    "\n",
    "    best_lambdas = []\n",
    "    best_losses = []\n",
    "    best_weights = []\n",
    "    best_losses_tr = []\n",
    "    best_losses_te_acc = []\n",
    "    best_losses_tr_acc = []\n",
    "    \n",
    "    j = 0 #jth degree\n",
    "    for deg in degrees:\n",
    "        i = 0 #ith lambda\n",
    "        losses_te = []\n",
    "        losses_tr = []\n",
    "        losses_te_acc = []\n",
    "        losses_tr_acc = []\n",
    "        ws = []\n",
    "        for lambda_ in lambdas:\n",
    "            print(f'Lambda {lambdas[i]}, degree {degrees[j]}')\n",
    "            i += 1\n",
    "            ws_tmp = []\n",
    "            loss_te_tmp = []\n",
    "            loss_tr_tmp = []\n",
    "            loss_te_acc_tmp = []\n",
    "            loss_tr_acc_tmp = []\n",
    "            \n",
    "            for k in range(k_fold):\n",
    "                #print(f'Fold {k}/{k_fold}')\n",
    "                loss_tr, loss_te, w, loss_tr_acc, loss_te_acc = cross_validation(y, x, k_indices, k, lambda_, deg)\n",
    "                loss_te_tmp.append(loss_te)\n",
    "                loss_tr_tmp.append(loss_tr)\n",
    "                loss_te_acc_tmp.append(loss_te_acc)\n",
    "                loss_tr_acc_tmp.append(loss_tr_acc)\n",
    "                ws_tmp.append(w)\n",
    "            losses_te.append(np.mean(loss_te_tmp, axis=0))\n",
    "            losses_tr.append(np.mean(loss_tr_tmp, axis=0))\n",
    "            losses_te_acc.append(np.mean(loss_te_acc_tmp, axis=0))\n",
    "            losses_tr_acc.append(np.mean(loss_tr_acc_tmp, axis=0))\n",
    "            ws.append(np.mean(ws_tmp, axis=0))\n",
    "            \n",
    "            def predict(tx, w):\n",
    "                return tx.dot(w)\n",
    "\n",
    "            y_pred = predict(build_poly(x, deg), np.mean(ws_tmp, axis=0))\n",
    "            y_pred[np.where(y_pred <= 0)] = -1\n",
    "            y_pred[np.where(y_pred > 0)] = 1\n",
    "        \n",
    "            print(f'Total predicted {sum(y_pred == y)}, Test {np.mean(loss_te_acc_tmp, axis=0)} Training misclassification {np.mean(loss_tr_acc_tmp, axis=0)}') # how many would the trained model predict on the train set\n",
    "\n",
    "        j += 1\n",
    "        ind_lambda_opt = np.argmin(loss_te)\n",
    "        best_lambdas.append(lambdas[ind_lambda_opt])\n",
    "        best_losses.append(losses_te[ind_lambda_opt])\n",
    "        best_weights.append(ws[ind_lambda_opt])\n",
    "        best_losses_tr.append(losses_tr[ind_lambda_opt])\n",
    "        best_losses_te_acc.append(losses_te_acc[ind_lambda_opt])\n",
    "        best_losses_tr_acc.append(losses_tr_acc[ind_lambda_opt])\n",
    "        \n",
    "        with open('../../vars_ridge.pkl', 'wb') as f:\n",
    "            pickle.dump([best_lambdas,best_losses,best_losses_tr,best_weights, best_losses_te_acc, best_losses_tr_acc], f)\n",
    "        \n",
    "    ind_best_degree = np.argmin(best_losses)\n",
    "\n",
    "    return degrees[ind_best_degree], best_lambdas, best_weights, best_losses, best_losses_tr, best_losses_te_acc, best_losses_tr_acc\n",
    "\n",
    "best_degree, best_lambdas_per_degree, best_weights_per_degree, best_losses_te, best_losses_tr, best_losses_te_acc, best_losses_tr_acc = cross_validation_demo()"
   ]
  },
  {
   "cell_type": "code",
   "execution_count": 18,
   "metadata": {},
   "outputs": [
    {
     "data": {
      "text/plain": [
       "1"
      ]
     },
     "execution_count": 18,
     "metadata": {},
     "output_type": "execute_result"
    }
   ],
   "source": [
    "best_degree"
   ]
  },
  {
   "cell_type": "code",
   "execution_count": 17,
   "metadata": {},
   "outputs": [
    {
     "data": {
      "text/plain": [
       "[1e-25, 1e-25, 1e-25, 1e-25, 1e-25, 1e-25]"
      ]
     },
     "execution_count": 17,
     "metadata": {},
     "output_type": "execute_result"
    }
   ],
   "source": [
    "best_lambdas_per_degree"
   ]
  },
  {
   "cell_type": "code",
   "execution_count": null,
   "metadata": {},
   "outputs": [],
   "source": [
    "# is there any way to show that the lambda preferred by both lowest mse and lowest misclassifications is the same?"
   ]
  },
  {
   "cell_type": "code",
   "execution_count": 20,
   "metadata": {},
   "outputs": [
    {
     "data": {
      "text/plain": [
       "[0.34007761321740115,\n",
       " 0.3762667570855367,\n",
       " 7.551846012263381,\n",
       " 715.9997814004827,\n",
       " 10617.38642284291,\n",
       " 59126176.23044533]"
      ]
     },
     "execution_count": 20,
     "metadata": {},
     "output_type": "execute_result"
    }
   ],
   "source": [
    "best_losses_te"
   ]
  },
  {
   "cell_type": "code",
   "execution_count": 27,
   "metadata": {},
   "outputs": [
    {
     "data": {
      "image/png": "[encoded data removed]",
      "text/plain": [
       "<Figure size 432x288 with 1 Axes>"
      ]
     },
     "metadata": {
      "needs_background": "light"
     },
     "output_type": "display_data"
    }
   ],
   "source": [
    "import matplotlib.pyplot as plt\n",
    "\n",
    "plt.plot(best_losses_te, label='average test mse during cross validation')\n",
    "plt.plot(best_losses_tr, label='average train mse during cross validation')\n",
    "plt.yscale('log')\n",
    "plt.xlabel('degree')\n",
    "plt.ylabel('mse')\n",
    "plt.legend(loc=\"upper left\")\n",
    "plt.show()"
   ]
  },
  {
   "cell_type": "code",
   "execution_count": 30,
   "metadata": {},
   "outputs": [
    {
     "data": {
      "image/png": "[encoded data removed]",
      "text/plain": [
       "<Figure size 432x288 with 1 Axes>"
      ]
     },
     "metadata": {
      "needs_background": "light"
     },
     "output_type": "display_data"
    }
   ],
   "source": [
    "import matplotlib.pyplot as plt\n",
    "\n",
    "plt.plot(best_losses_te_acc, label='average test missclassification percentage during cross validation')\n",
    "plt.plot(best_losses_tr_acc, label='average train missclassification percentage during cross validation')\n",
    "plt.xlabel('degree')\n",
    "plt.ylabel('missclassification percentage')\n",
    "plt.legend(loc=\"upper right\")\n",
    "plt.show()"
   ]
  },
  {
   "cell_type": "code",
   "execution_count": 11,
   "metadata": {},
   "outputs": [
    {
     "data": {
      "text/plain": [
       "204291"
      ]
     },
     "execution_count": 11,
     "metadata": {},
     "output_type": "execute_result"
    }
   ],
   "source": [
    "def predict(tx, w):\n",
    "    return tx.dot(w)\n",
    "\n",
    "y_pred = predict(build_poly(x, best_degree), best_weights_per_degree[0])\n",
    "y_pred[np.where(y_pred <= 0)] = -1\n",
    "y_pred[np.where(y_pred > 0)] = 1\n",
    "\n",
    "sum(y_pred == y)"
   ]
  },
  {
   "cell_type": "code",
   "execution_count": 109,
   "metadata": {},
   "outputs": [],
   "source": [
    "test_path = '../data/test.csv'\n",
    "\n",
    "y, x, ids = load_csv_data(test_path)"
   ]
  },
  {
   "cell_type": "code",
   "execution_count": 110,
   "metadata": {},
   "outputs": [],
   "source": [
    "# replace missing values with mean of col\n",
    "inds = np.where(x==-999)\n",
    "x[inds] = np.take(col_mean, inds[1])\n",
    "\n",
    "# minmax normalize\n",
    "x = (x - xmin) / (xmax-xmin)"
   ]
  },
  {
   "cell_type": "code",
   "execution_count": 113,
   "metadata": {},
   "outputs": [],
   "source": [
    "def create_csv_submission(ids, y_pred, name):\n",
    "    \"\"\"\n",
    "    Creates an output file in csv format for submission to kaggle\n",
    "    Arguments: ids (event ids associated with each prediction)\n",
    "               y_pred (predicted class labels)\n",
    "               name (string name of .csv output file to be created)\n",
    "    \"\"\"\n",
    "    with open(name, 'w') as csvfile:\n",
    "        fieldnames = ['Id', 'Prediction']\n",
    "        writer = csv.DictWriter(csvfile, delimiter=\",\", fieldnames=fieldnames)\n",
    "        writer.writeheader()\n",
    "        for r1, r2 in zip(ids, y_pred):\n",
    "            writer.writerow({'Id':int(r1),'Prediction':int(r2)})\n",
    "\n",
    "            \n",
    "y_pred = predict(build_poly(x, 9), best_weights_per_degree[0])\n",
    "y_pred[np.where(y_pred <= 0)] = -1\n",
    "y_pred[np.where(y_pred > 0)] = 1\n",
    "\n",
    "#create_csv_submission(ids, y_pred, 'ridge_deg9_1e-18.csv')"
   ]
  }
 ],
 "metadata": {
  "kernelspec": {
   "display_name": "Python 3",
   "language": "python",
   "name": "python3"
  },
  "language_info": {
   "codemirror_mode": {
    "name": "ipython",
    "version": 3
   },
   "file_extension": ".py",
   "mimetype": "text/x-python",
   "name": "python",
   "nbconvert_exporter": "python",
   "pygments_lexer": "ipython3",
   "version": "3.7.6"
  }
 },
 "nbformat": 4,
 "nbformat_minor": 4
}
